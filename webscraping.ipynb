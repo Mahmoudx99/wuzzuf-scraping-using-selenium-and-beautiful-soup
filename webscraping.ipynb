{
 "cells": [
  {
   "cell_type": "code",
   "execution_count": 1,
   "metadata": {},
   "outputs": [],
   "source": [
    "import requests\n",
    "import warnings\n",
    "warnings.filterwarnings(\"ignore\")\n",
    "from bs4 import BeautifulSoup\n",
    "import time\n",
    "import pandas as pd\n",
    "import numpy as np\n",
    "import re"
   ]
  },
  {
   "cell_type": "code",
   "execution_count": 2,
   "metadata": {},
   "outputs": [],
   "source": [
    "from selenium import webdriver \n"
   ]
  },
  {
   "cell_type": "code",
   "execution_count": 3,
   "metadata": {},
   "outputs": [],
   "source": [
    "option = webdriver.ChromeOptions()\n",
    "# set the window size to 1920x1080\n",
    "option.add_argument(\"--window-size=150,1080\")"
   ]
  },
  {
   "cell_type": "code",
   "execution_count": 4,
   "metadata": {},
   "outputs": [],
   "source": [
    "path = 'C:\\Program Files (x86)\\chromedriver.exe'\n",
    "driver = webdriver.Chrome(executable_path= path,options=option)\n",
    "#driver.get('https://www.google.com/')"
   ]
  },
  {
   "cell_type": "markdown",
   "metadata": {},
   "source": [
    "#### Using depth-first technique"
   ]
  },
  {
   "cell_type": "code",
   "execution_count": 5,
   "metadata": {},
   "outputs": [],
   "source": [
    "# use selenium to get the html of the page\n",
    "def get_html(url):\n",
    "    driver.get(url)\n",
    "    time.sleep(5)\n",
    "    html = driver.page_source\n",
    "    return html\n",
    "\n",
    "# use beautiful soup to parse the html\n",
    "def get_soup(html):\n",
    "    soup = BeautifulSoup(html, 'html.parser')\n",
    "    return soup\n",
    "\n",
    "def get_number_of_pages(soup):\n",
    "    # use exception handling to avoid errors\n",
    "    try:\n",
    "        number = soup.find('span', {'class': 'css-1a5jpu7'})\n",
    "        number = number.text\n",
    "        number = number.split('/')[-1]\n",
    "        number = int(number)\n",
    "    except:\n",
    "        number = 1\n",
    "    return number\n",
    "\n",
    "# create a list of urls to scrape\n",
    "def get_urls_with_page_numbers(soup,number,website):\n",
    "    if number == 1:\n",
    "        urls = [website]\n",
    "    else:\n",
    "        urls = []\n",
    "        urls.append(website)\n",
    "        for i in range(1, number):\n",
    "            urls.append(website + '&start=' + str(i))\n",
    "    return urls\n"
   ]
  },
  {
   "cell_type": "code",
   "execution_count": 6,
   "metadata": {},
   "outputs": [],
   "source": [
    "# define a function to get the job details from the page\n",
    "def get_job_details(soup):\n",
    "\n",
    "    job_title = []\n",
    "    job_url = []\n",
    "    company_name = []\n",
    "    company_location = []\n",
    "    job_post_date = []\n",
    "    job_duration = []\n",
    "    job_experience_level = []\n",
    "    job_experience_duration = []\n",
    "    job_tags = []\n",
    "    \n",
    "    body = soup.find('body')\n",
    "    parent = body.find('div', {'class': 'css-9i2afk'})\n",
    "    parent = parent.findChildren(recursive=False)[1]\n",
    "    main =  'https://wuzzuf.net'\n",
    "    # find the children of the parent\n",
    "    children = parent.findChildren(recursive=False)\n",
    "\n",
    "    #print(children[0].prettify())\n",
    "    # iterate through the children and get the job details\n",
    "\n",
    "    for child in children:\n",
    "        job_duration_node = []\n",
    "        job_tags_node = []\n",
    "        job_post = child.findChildren()[0]\n",
    "        #print(job_post.prettify())\n",
    "        job_head = job_post.findChild('div', {'class': 'css-laomuu'})\n",
    "        job_body = job_post.findChild('div', {'class': 'css-y4udm8'})\n",
    "        #print(job_head.prettify())\n",
    "        # job_title inside the job_head\n",
    "        try:\n",
    "            job_title_node = job_head.findChild('h2', {'class': 'css-m604qf'})\n",
    "            job_title_node = job_title_node.findChild('a')\n",
    "            job_url_node = job_title_node.get('href')\n",
    "            job_url_node = main + job_url_node\n",
    "            job_title_node = job_title_node.text\n",
    "        except:\n",
    "            job_title_node = np.nan\n",
    "            job_url_node = np.nan\n",
    "        job_url.append(job_url_node)\n",
    "        job_title.append(job_title_node)\n",
    "        #print(job_title)\n",
    "\n",
    "        # job_details inside the job_head\n",
    "        try:\n",
    "            job_details = job_head.findChild('div', {'class':'css-d7j1kk'})\n",
    "\n",
    "            company_name_node = job_details.findChild('a').text\n",
    "            company_location_node = job_details.findChild('span').text\n",
    "            job_post_date_node = job_details.findChild('div').text\n",
    "        except:\n",
    "            company_name_node = np.nan\n",
    "            company_location_node = np.nan\n",
    "            job_post_date_node = np.nan\n",
    "\n",
    "        company_name.append(company_name_node)\n",
    "        company_location.append(company_location_node)\n",
    "        job_post_date.append(job_post_date_node)\n",
    "\n",
    "        #print(company_name)\n",
    "        # job_description inside the job_body\n",
    "        job_body_head = job_body.findChildren()[0]\n",
    "        job_body_head = job_body_head.findChildren()\n",
    "\n",
    "        try:\n",
    "            for post in job_body_head:\n",
    "                job_duration_node.append(post.text)\n",
    "            job_duration_node = set(job_duration_node)\n",
    "\n",
    "        except:\n",
    "            job_duration_node = np.nan\n",
    "        job_duration.append(job_duration_node)\n",
    "\n",
    "\n",
    "        job_body_body = job_body.findChildren('div')[1]\n",
    "        try:\n",
    "            job_experience_level_node = job_body_body.findChild('a').text\n",
    "            job_experience_duration_node = job_body_body.findChild('span').text\n",
    "            job_tags_node = job_body_body.findChildren('a')[1:]\n",
    "            job_tags_node = [tag.text for tag in job_tags_node]\n",
    "\n",
    "\n",
    "        except:\n",
    "            job_experience_level_node = np.nan\n",
    "            job_experience_duration_node = np.nan\n",
    "            job_tags_node = np.nan\n",
    "\n",
    "        job_experience_level.append(job_experience_level_node)\n",
    "        job_experience_duration.append(job_experience_duration_node)\n",
    "        job_tags.append(job_tags_node)\n",
    "\n",
    "    return job_title, job_url, company_name, company_location, job_post_date, job_duration, job_experience_level, job_experience_duration, job_tags\n"
   ]
  },
  {
   "cell_type": "code",
   "execution_count": 28,
   "metadata": {},
   "outputs": [],
   "source": [
    "# loop over the job_url column and get the job requirements\n",
    "def get_job_requirements_description(job_url):\n",
    "    job_requirement_list = []\n",
    "    job_description_list = []\n",
    "    job_logo_list = []\n",
    "    progress = 0\n",
    "    len_urls = str(len(job_url))\n",
    "    for url in job_url:\n",
    "        html = get_html(url)\n",
    "        soup = get_soup(html)\n",
    "        #job_description.append(get_job_description(soup))\n",
    "        job_requirement = []\n",
    "        job_description = []\n",
    "        try:\n",
    "            job_requirement_node = soup.find('div', {'class':'css-1t5f0fr'})\n",
    "            job_requirement_node = job_requirement_node.findChildren()\n",
    "            for node in job_requirement_node:\n",
    "                job_requirement.append(node.text)\n",
    "        except:\n",
    "            job_requirement = np.nan\n",
    "        #print(job_description)\n",
    "        job_requirement_list.append(job_requirement)\n",
    "\n",
    "        try:\n",
    "            job_description_node = soup.find('div', {'class':'css-1uobp1k'})\n",
    "            job_description_node = job_description_node.findChildren()\n",
    "            for node in job_description_node:\n",
    "                job_description.append(node.text)\n",
    "        except:\n",
    "            job_description = np.nan\n",
    "            \n",
    "        job_description_list.append(job_description)\n",
    "\n",
    "        try:\n",
    "            job_logo_node = soup.find('img', {'class':'css-jb4x6y'})\n",
    "            job_logo_node = job_logo_node.get('src')\n",
    "\n",
    "        except:\n",
    "            job_logo_node = np.nan\n",
    "        job_logo_list.append(job_logo_node)\n",
    "\n",
    "        progress += 1\n",
    "        clear_output(wait=True)\n",
    "        print('Progress: ' + str(progress) + '/' + len_urls)\n",
    "        \n",
    "    return job_requirement_list, job_description_list, job_logo_list\n",
    "    "
   ]
  },
  {
   "cell_type": "code",
   "execution_count": 8,
   "metadata": {},
   "outputs": [],
   "source": [
    "def get_page_urls(websites):\n",
    "    urls = []\n",
    "    for website in websites:\n",
    "        html = get_html(website)\n",
    "        soup = get_soup(html)\n",
    "        number = get_number_of_pages(soup)\n",
    "        print(number)\n",
    "        urls.append(get_urls_with_page_numbers(soup,number,website))\n",
    "\n",
    "    # flatten the list of lists\n",
    "    urls = [url for sublist in urls for url in sublist]\n",
    "    return urls\n"
   ]
  },
  {
   "cell_type": "code",
   "execution_count": 9,
   "metadata": {},
   "outputs": [],
   "source": [
    "def search(search_key_words):\n",
    "    websites = []\n",
    "    main = 'https://wuzzuf.net'\n",
    "    search = '/search/jobs/?a=hpb%7Cspbg&q='\n",
    "\n",
    "    # create a list of websites to scrape using the main website and the jobs list\n",
    "    for search_key_word in search_key_words:\n",
    "        websites.append(main + search + search_key_word.split(' ')[0] + '%20' + search_key_word.split(' ')[1])\n",
    "    return websites\n"
   ]
  },
  {
   "cell_type": "code",
   "execution_count": 10,
   "metadata": {},
   "outputs": [],
   "source": [
    "# import clear_output to clear the output\n",
    "from IPython.display import clear_output\n",
    "def scraping(urls):\n",
    "    job_title = []\n",
    "    job_url = []\n",
    "    company_name = []\n",
    "    company_location = []\n",
    "    job_post_date = []\n",
    "    job_duration = []\n",
    "    job_experience_level = []\n",
    "    job_experience_duration = []\n",
    "    job_tags = []\n",
    "\n",
    "    progress = 0\n",
    "    len_urls = str(len(urls))\n",
    "\n",
    "    for url in urls:\n",
    "        html = get_html(url)\n",
    "        soup = get_soup(html)\n",
    "        # wait for 10 seconds\n",
    "        #time.sleep(10)\n",
    "        job_title_page, job_url_page, company_name_page, company_location_page, job_post_date_page, job_duration_page, job_experience_level_page, job_experience_duration_page, job_tags_page = get_job_details(soup)\n",
    "        \n",
    "        # append the lists\n",
    "        job_title.extend(job_title_page)\n",
    "        job_url.extend(job_url_page)\n",
    "        company_name.extend(company_name_page)\n",
    "        company_location.extend(company_location_page)\n",
    "        job_post_date.extend(job_post_date_page)\n",
    "        job_duration.extend(job_duration_page)\n",
    "        job_experience_level.extend(job_experience_level_page)\n",
    "        job_experience_duration.extend(job_experience_duration_page)\n",
    "        job_tags.extend(job_tags_page)\n",
    "        \n",
    "        # get the progress by calculating the number of pages scraped so far and the total number of pages\n",
    "        progress = progress + 1\n",
    "        clear_output(wait=True)\n",
    "        print('Progress: ' + str(progress) + '/' + len_urls)\n",
    "        print('Number of jobs scraped: ' + str(len(job_title)))\n",
    "\n",
    "\n",
    "\n",
    "    # append the lists to the dataframe\n",
    "    df = pd.DataFrame({'job_title': job_title,'job_url': job_url ,'company_name': company_name, 'company_location': company_location, 'job_post_date': job_post_date, 'job_duration': job_duration, 'job_experience_level': job_experience_level, 'job_experience_duration': job_experience_duration, 'job_tags': job_tags})\n",
    "    return df\n",
    "    "
   ]
  },
  {
   "cell_type": "code",
   "execution_count": 13,
   "metadata": {},
   "outputs": [],
   "source": [
    "search_key_words = ['artificial intelligence','machine learning','data science','data analyst','data warehouse']\n",
    "websites = search(search_key_words)"
   ]
  },
  {
   "cell_type": "code",
   "execution_count": 14,
   "metadata": {},
   "outputs": [
    {
     "name": "stdout",
     "output_type": "stream",
     "text": [
      "1\n",
      "3\n",
      "41\n",
      "13\n",
      "6\n"
     ]
    },
    {
     "data": {
      "text/plain": [
       "['https://wuzzuf.net/search/jobs/?a=hpb%7Cspbg&q=artificial%20intelligence',\n",
       " 'https://wuzzuf.net/search/jobs/?a=hpb%7Cspbg&q=machine%20learning',\n",
       " 'https://wuzzuf.net/search/jobs/?a=hpb%7Cspbg&q=machine%20learning&start=1',\n",
       " 'https://wuzzuf.net/search/jobs/?a=hpb%7Cspbg&q=machine%20learning&start=2',\n",
       " 'https://wuzzuf.net/search/jobs/?a=hpb%7Cspbg&q=data%20science']"
      ]
     },
     "execution_count": 14,
     "metadata": {},
     "output_type": "execute_result"
    }
   ],
   "source": [
    "urls = get_page_urls(websites)\n",
    "urls[:5]"
   ]
  },
  {
   "cell_type": "code",
   "execution_count": 15,
   "metadata": {},
   "outputs": [
    {
     "name": "stdout",
     "output_type": "stream",
     "text": [
      "Progress: 64/64\n",
      "Number of jobs scraped: 932\n"
     ]
    }
   ],
   "source": [
    "df = scraping(urls)"
   ]
  },
  {
   "cell_type": "code",
   "execution_count": 16,
   "metadata": {},
   "outputs": [
    {
     "data": {
      "text/plain": [
       "['https://wuzzuf.net/jobs/p/O9CVoliDvZQz-AIML-Artificial-IntelligenceMachine-Learning-Lead-SURE-International-Technology-Cairo-Egypt?o=1&l=sp&t=sj&a=artificial intelligence|search-v3|hpb|spbg',\n",
       " 'https://wuzzuf.net/jobs/p/DH9EDOqivogn-Artificial-Intelligence-AI-Engineer-Riyadh-Saudi-Arabia?o=2&l=sp&t=sj&a=artificial intelligence|search-v3|hpb|spbg',\n",
       " 'https://wuzzuf.net/jobs/p/ZRkuYvC25umo-Senior-Computer-Vision-Engineer-wobot-ai-New-Delhi-India?o=3&l=sp&t=sj&a=artificial intelligence|search-v3|hpb|spbg',\n",
       " 'https://wuzzuf.net/jobs/p/r8foaAQzdmDJ-Product-Designer-Cow-Gifts-Cairo-Egypt?o=4&l=sp&t=sj&a=artificial intelligence|search-v3|hpb|spbg',\n",
       " 'https://wuzzuf.net/jobs/p/xVOqL0uIwwBy-Professor-Lecturer-in-Computer-Science-MSA-October-University-Giza-Egypt?o=5&l=sp&t=sj&a=artificial intelligence|search-v3|hpb|spbg']"
      ]
     },
     "execution_count": 16,
     "metadata": {},
     "output_type": "execute_result"
    }
   ],
   "source": [
    "job_url = df['job_url'].tolist()\n",
    "job_url[:5]"
   ]
  },
  {
   "cell_type": "code",
   "execution_count": 42,
   "metadata": {},
   "outputs": [
    {
     "name": "stdout",
     "output_type": "stream",
     "text": [
      "Progress: 932/932\n"
     ]
    }
   ],
   "source": [
    "job_requirements, job_description,company_logo = get_job_requirements_description(job_url)"
   ]
  },
  {
   "cell_type": "code",
   "execution_count": 43,
   "metadata": {},
   "outputs": [
    {
     "data": {
      "text/plain": [
       "['Bachelor’s degree in Statistics, Computer Science, or in an Engineering or Sciences discipline or related degreeAt least 5 years experience in analytics, data science, ML EngineeringAt least 1-2 years of experience leading, mentoring, and developing either Machine Learning, Data Science, or Analytics practitioners.Experience with building and deploying a range of deep learning models into productionExperience with Cloud Services - Amazon Web Services (AWS)Highly proficient in ML and Deep learning algorithms with a hands-on project.Strong experience working with big data tools: Hadoop, Spark, Kafka, etc.Extensive Python experience required.Experience with Agile tools like Jira.Able to communicate technical issues with technical & non-technical stakeholders.Ability to quickly prototype ideas and solve complex problems by adapting creative approaches,',\n",
       " 'Bachelor’s degree in Statistics, Computer Science, or in an Engineering or Sciences discipline or related degree',\n",
       " 'At least 5 years experience in analytics, data science, ML Engineering',\n",
       " 'At least 1-2 years of experience leading, mentoring, and developing either Machine Learning, Data Science, or Analytics practitioners.',\n",
       " 'Experience with building and deploying a range of deep learning models into production',\n",
       " 'Experience with Cloud Services - Amazon Web Services (AWS)',\n",
       " 'Highly proficient in ML and Deep learning algorithms with a hands-on project.',\n",
       " 'Strong experience working with big data tools: Hadoop, Spark, Kafka, etc.',\n",
       " 'Extensive Python experience required.',\n",
       " 'Experience with Agile tools like Jira.',\n",
       " 'Able to communicate technical issues with technical & non-technical stakeholders.',\n",
       " 'Ability to quickly prototype ideas and solve complex problems by adapting creative approaches,']"
      ]
     },
     "execution_count": 43,
     "metadata": {},
     "output_type": "execute_result"
    }
   ],
   "source": [
    "job_requirements[0]"
   ]
  },
  {
   "cell_type": "code",
   "execution_count": 44,
   "metadata": {},
   "outputs": [
    {
     "data": {
      "text/plain": [
       "['Lead, mentor, and advise the ML team members.Identify the most effective architectures and models to solve complex data problems.Research and implement appropriate ML algorithms and tools using deep learning and artificial neural networks.Designing AI/ML pipelines.Extend existing ML libraries and frameworks.The document, summarize and present findings to a group of peers and stakeholders across multiple projects.',\n",
       " 'Lead, mentor, and advise the ML team members.',\n",
       " 'Identify the most effective architectures and models to solve complex data problems.',\n",
       " 'Research and implement appropriate ML algorithms and tools using deep learning and artificial neural networks.',\n",
       " 'Designing AI/ML pipelines.',\n",
       " 'Extend existing ML libraries and frameworks.',\n",
       " 'The document, summarize and present findings to a group of peers and stakeholders across multiple projects.']"
      ]
     },
     "execution_count": 44,
     "metadata": {},
     "output_type": "execute_result"
    }
   ],
   "source": [
    "job_description[0]"
   ]
  },
  {
   "cell_type": "code",
   "execution_count": 45,
   "metadata": {},
   "outputs": [
    {
     "data": {
      "text/plain": [
       "'https://wuzzuf.net/jobs/p/O9CVoliDvZQz-AIML-Artificial-IntelligenceMachine-Learning-Lead-SURE-International-Technology-Cairo-Egypt?o=1&l=sp&t=sj&a=artificial intelligence|search-v3|hpb|spbg'"
      ]
     },
     "execution_count": 45,
     "metadata": {},
     "output_type": "execute_result"
    }
   ],
   "source": [
    "job_url[0]"
   ]
  },
  {
   "cell_type": "code",
   "execution_count": 46,
   "metadata": {},
   "outputs": [
    {
     "data": {
      "text/plain": [
       "'https://images.wuzzuf-data.net/files/company_logo/SURE-International-Technology-Egypt-21250-1516284267-sm.jpg'"
      ]
     },
     "execution_count": 46,
     "metadata": {},
     "output_type": "execute_result"
    }
   ],
   "source": [
    "company_logo[0]"
   ]
  },
  {
   "cell_type": "code",
   "execution_count": 47,
   "metadata": {},
   "outputs": [],
   "source": [
    "# append the lists to the dataframe\n",
    "df['job_requirements'] = job_requirements\n",
    "df['job_description'] = job_description\n",
    "df['company_logo'] = company_logo"
   ]
  },
  {
   "cell_type": "code",
   "execution_count": 48,
   "metadata": {},
   "outputs": [
    {
     "data": {
      "text/html": [
       "<div>\n",
       "<style scoped>\n",
       "    .dataframe tbody tr th:only-of-type {\n",
       "        vertical-align: middle;\n",
       "    }\n",
       "\n",
       "    .dataframe tbody tr th {\n",
       "        vertical-align: top;\n",
       "    }\n",
       "\n",
       "    .dataframe thead th {\n",
       "        text-align: right;\n",
       "    }\n",
       "</style>\n",
       "<table border=\"1\" class=\"dataframe\">\n",
       "  <thead>\n",
       "    <tr style=\"text-align: right;\">\n",
       "      <th></th>\n",
       "      <th>job_title</th>\n",
       "      <th>job_url</th>\n",
       "      <th>company_name</th>\n",
       "      <th>company_location</th>\n",
       "      <th>job_post_date</th>\n",
       "      <th>job_duration</th>\n",
       "      <th>job_experience_level</th>\n",
       "      <th>job_experience_duration</th>\n",
       "      <th>job_tags</th>\n",
       "      <th>job_requirements</th>\n",
       "      <th>job_description</th>\n",
       "      <th>company_logo</th>\n",
       "    </tr>\n",
       "  </thead>\n",
       "  <tbody>\n",
       "    <tr>\n",
       "      <th>0</th>\n",
       "      <td>AI/ML (Artificial Intelligence/Machine Learnin...</td>\n",
       "      <td>https://wuzzuf.net/jobs/p/O9CVoliDvZQz-AIML-Ar...</td>\n",
       "      <td>SURE International Technology -</td>\n",
       "      <td>Cairo, Egypt</td>\n",
       "      <td>5 days ago</td>\n",
       "      <td>{Full Time}</td>\n",
       "      <td>Manager</td>\n",
       "      <td>· 5+ Yrs of Exp</td>\n",
       "      <td>[ · IT/Software Development,  · Operations/Man...</td>\n",
       "      <td>[Bachelor’s degree in Statistics, Computer Sci...</td>\n",
       "      <td>[Lead, mentor, and advise the ML team members....</td>\n",
       "      <td>https://images.wuzzuf-data.net/files/company_l...</td>\n",
       "    </tr>\n",
       "    <tr>\n",
       "      <th>1</th>\n",
       "      <td>Artificial Intelligence (AI) Engineer</td>\n",
       "      <td>https://wuzzuf.net/jobs/p/DH9EDOqivogn-Artific...</td>\n",
       "      <td>Confidential -</td>\n",
       "      <td>Riyadh, Saudi Arabia</td>\n",
       "      <td>25 days ago</td>\n",
       "      <td>{Full Time}</td>\n",
       "      <td>Experienced</td>\n",
       "      <td>· 2 - 4 Yrs of Exp</td>\n",
       "      <td>[ · IT/Software Development,  · Analyst/Resear...</td>\n",
       "      <td>[BA/BS degree in computer science or related d...</td>\n",
       "      <td>[Develops required machine learning models or ...</td>\n",
       "      <td>data:image/png;base64,iVBORw0KGgoAAAANSUhEUgAA...</td>\n",
       "    </tr>\n",
       "    <tr>\n",
       "      <th>2</th>\n",
       "      <td>Senior Computer Vision Engineer</td>\n",
       "      <td>https://wuzzuf.net/jobs/p/ZRkuYvC25umo-Senior-...</td>\n",
       "      <td>wobot.ai -</td>\n",
       "      <td>New Delhi, India</td>\n",
       "      <td>2 days ago</td>\n",
       "      <td>{Full Time, Work From Home}</td>\n",
       "      <td>Senior Management</td>\n",
       "      <td>· 3 - 6 Yrs of Exp</td>\n",
       "      <td>[ · IT/Software Development,  · Engineering - ...</td>\n",
       "      <td>[Requirements:, Requirements:, Proficient with...</td>\n",
       "      <td>[Description:, Description:, This is a senior ...</td>\n",
       "      <td>https://images.wuzzuf-data.net/files/company_l...</td>\n",
       "    </tr>\n",
       "    <tr>\n",
       "      <th>3</th>\n",
       "      <td>Product Designer</td>\n",
       "      <td>https://wuzzuf.net/jobs/p/r8foaAQzdmDJ-Product...</td>\n",
       "      <td>Cow Gifts -</td>\n",
       "      <td>New Cairo, Cairo, Egypt</td>\n",
       "      <td>5 days ago</td>\n",
       "      <td>{Full Time}</td>\n",
       "      <td>Experienced</td>\n",
       "      <td>· 2 - 5 Yrs of Exp</td>\n",
       "      <td>[ · Engineering - Construction/Civil/Architect...</td>\n",
       "      <td>[A Bachelors Degree in either Interior design,...</td>\n",
       "      <td>[Identify opportunities for new products.Analy...</td>\n",
       "      <td>https://images.wuzzuf-data.net/files/company_l...</td>\n",
       "    </tr>\n",
       "    <tr>\n",
       "      <th>4</th>\n",
       "      <td>Professor / Lecturer in Computer Science</td>\n",
       "      <td>https://wuzzuf.net/jobs/p/xVOqL0uIwwBy-Profess...</td>\n",
       "      <td>(MSA) October University -</td>\n",
       "      <td>6th of October, Giza, Egypt</td>\n",
       "      <td>24 days ago</td>\n",
       "      <td>{Full Time}</td>\n",
       "      <td>Experienced</td>\n",
       "      <td>· 5+ Yrs of Exp</td>\n",
       "      <td>[ · IT/Software Development,  · Engineering - ...</td>\n",
       "      <td>[PhD in Computer Science, Software Engineering...</td>\n",
       "      <td>[October University for Modern Sciences and Ar...</td>\n",
       "      <td>https://images.wuzzuf-data.net/files/company_l...</td>\n",
       "    </tr>\n",
       "  </tbody>\n",
       "</table>\n",
       "</div>"
      ],
      "text/plain": [
       "                                           job_title  \\\n",
       "0  AI/ML (Artificial Intelligence/Machine Learnin...   \n",
       "1              Artificial Intelligence (AI) Engineer   \n",
       "2                    Senior Computer Vision Engineer   \n",
       "3                                   Product Designer   \n",
       "4           Professor / Lecturer in Computer Science   \n",
       "\n",
       "                                             job_url  \\\n",
       "0  https://wuzzuf.net/jobs/p/O9CVoliDvZQz-AIML-Ar...   \n",
       "1  https://wuzzuf.net/jobs/p/DH9EDOqivogn-Artific...   \n",
       "2  https://wuzzuf.net/jobs/p/ZRkuYvC25umo-Senior-...   \n",
       "3  https://wuzzuf.net/jobs/p/r8foaAQzdmDJ-Product...   \n",
       "4  https://wuzzuf.net/jobs/p/xVOqL0uIwwBy-Profess...   \n",
       "\n",
       "                      company_name              company_location  \\\n",
       "0  SURE International Technology -                 Cairo, Egypt    \n",
       "1                   Confidential -         Riyadh, Saudi Arabia    \n",
       "2                       wobot.ai -             New Delhi, India    \n",
       "3                      Cow Gifts -      New Cairo, Cairo, Egypt    \n",
       "4       (MSA) October University -  6th of October, Giza, Egypt    \n",
       "\n",
       "  job_post_date                 job_duration job_experience_level  \\\n",
       "0    5 days ago                  {Full Time}              Manager   \n",
       "1   25 days ago                  {Full Time}          Experienced   \n",
       "2    2 days ago  {Full Time, Work From Home}    Senior Management   \n",
       "3    5 days ago                  {Full Time}          Experienced   \n",
       "4   24 days ago                  {Full Time}          Experienced   \n",
       "\n",
       "  job_experience_duration                                           job_tags  \\\n",
       "0         · 5+ Yrs of Exp  [ · IT/Software Development,  · Operations/Man...   \n",
       "1      · 2 - 4 Yrs of Exp  [ · IT/Software Development,  · Analyst/Resear...   \n",
       "2      · 3 - 6 Yrs of Exp  [ · IT/Software Development,  · Engineering - ...   \n",
       "3      · 2 - 5 Yrs of Exp  [ · Engineering - Construction/Civil/Architect...   \n",
       "4         · 5+ Yrs of Exp  [ · IT/Software Development,  · Engineering - ...   \n",
       "\n",
       "                                    job_requirements  \\\n",
       "0  [Bachelor’s degree in Statistics, Computer Sci...   \n",
       "1  [BA/BS degree in computer science or related d...   \n",
       "2  [Requirements:, Requirements:, Proficient with...   \n",
       "3  [A Bachelors Degree in either Interior design,...   \n",
       "4  [PhD in Computer Science, Software Engineering...   \n",
       "\n",
       "                                     job_description  \\\n",
       "0  [Lead, mentor, and advise the ML team members....   \n",
       "1  [Develops required machine learning models or ...   \n",
       "2  [Description:, Description:, This is a senior ...   \n",
       "3  [Identify opportunities for new products.Analy...   \n",
       "4  [October University for Modern Sciences and Ar...   \n",
       "\n",
       "                                        company_logo  \n",
       "0  https://images.wuzzuf-data.net/files/company_l...  \n",
       "1  data:image/png;base64,iVBORw0KGgoAAAANSUhEUgAA...  \n",
       "2  https://images.wuzzuf-data.net/files/company_l...  \n",
       "3  https://images.wuzzuf-data.net/files/company_l...  \n",
       "4  https://images.wuzzuf-data.net/files/company_l...  "
      ]
     },
     "execution_count": 48,
     "metadata": {},
     "output_type": "execute_result"
    }
   ],
   "source": [
    "df.head()"
   ]
  },
  {
   "cell_type": "code",
   "execution_count": 22,
   "metadata": {},
   "outputs": [
    {
     "name": "stdout",
     "output_type": "stream",
     "text": [
      "<class 'pandas.core.frame.DataFrame'>\n",
      "RangeIndex: 740 entries, 0 to 739\n",
      "Data columns (total 8 columns):\n",
      " #   Column                   Non-Null Count  Dtype \n",
      "---  ------                   --------------  ----- \n",
      " 0   job_title                740 non-null    object\n",
      " 1   company_name             740 non-null    object\n",
      " 2   company_location         740 non-null    object\n",
      " 3   job_post_date            740 non-null    object\n",
      " 4   job_duration             740 non-null    object\n",
      " 5   job_experience_level     738 non-null    object\n",
      " 6   job_experience_duration  738 non-null    object\n",
      " 7   job_tags                 738 non-null    object\n",
      "dtypes: object(8)\n",
      "memory usage: 46.4+ KB\n"
     ]
    }
   ],
   "source": [
    "# get the number of duplicates\n",
    "df.info()"
   ]
  },
  {
   "cell_type": "code",
   "execution_count": 50,
   "metadata": {},
   "outputs": [],
   "source": [
    "df.to_csv('wuzzuf_before_cleaning.csv', index=False)"
   ]
  },
  {
   "cell_type": "markdown",
   "metadata": {},
   "source": [
    "#### Data cleaning"
   ]
  },
  {
   "cell_type": "code",
   "execution_count": 51,
   "metadata": {},
   "outputs": [
    {
     "data": {
      "text/html": [
       "<div>\n",
       "<style scoped>\n",
       "    .dataframe tbody tr th:only-of-type {\n",
       "        vertical-align: middle;\n",
       "    }\n",
       "\n",
       "    .dataframe tbody tr th {\n",
       "        vertical-align: top;\n",
       "    }\n",
       "\n",
       "    .dataframe thead th {\n",
       "        text-align: right;\n",
       "    }\n",
       "</style>\n",
       "<table border=\"1\" class=\"dataframe\">\n",
       "  <thead>\n",
       "    <tr style=\"text-align: right;\">\n",
       "      <th></th>\n",
       "      <th>job_title</th>\n",
       "      <th>job_url</th>\n",
       "      <th>company_name</th>\n",
       "      <th>company_location</th>\n",
       "      <th>job_post_date</th>\n",
       "      <th>job_duration</th>\n",
       "      <th>job_experience_level</th>\n",
       "      <th>job_experience_duration</th>\n",
       "      <th>job_tags</th>\n",
       "      <th>job_requirements</th>\n",
       "      <th>job_description</th>\n",
       "      <th>company_logo</th>\n",
       "    </tr>\n",
       "  </thead>\n",
       "  <tbody>\n",
       "    <tr>\n",
       "      <th>0</th>\n",
       "      <td>AI/ML (Artificial Intelligence/Machine Learnin...</td>\n",
       "      <td>https://wuzzuf.net/jobs/p/O9CVoliDvZQz-AIML-Ar...</td>\n",
       "      <td>SURE International Technology -</td>\n",
       "      <td>Cairo, Egypt</td>\n",
       "      <td>5 days ago</td>\n",
       "      <td>{'Full Time'}</td>\n",
       "      <td>Manager</td>\n",
       "      <td>· 5+ Yrs of Exp</td>\n",
       "      <td>[' · IT/Software Development', ' · Operations/...</td>\n",
       "      <td>['Bachelor’s degree in Statistics, Computer Sc...</td>\n",
       "      <td>['Lead, mentor, and advise the ML team members...</td>\n",
       "      <td>https://images.wuzzuf-data.net/files/company_l...</td>\n",
       "    </tr>\n",
       "    <tr>\n",
       "      <th>1</th>\n",
       "      <td>Artificial Intelligence (AI) Engineer</td>\n",
       "      <td>https://wuzzuf.net/jobs/p/DH9EDOqivogn-Artific...</td>\n",
       "      <td>Confidential -</td>\n",
       "      <td>Riyadh, Saudi Arabia</td>\n",
       "      <td>25 days ago</td>\n",
       "      <td>{'Full Time'}</td>\n",
       "      <td>Experienced</td>\n",
       "      <td>· 2 - 4 Yrs of Exp</td>\n",
       "      <td>[' · IT/Software Development', ' · Analyst/Res...</td>\n",
       "      <td>['BA/BS degree in computer science or related ...</td>\n",
       "      <td>['Develops required machine learning models or...</td>\n",
       "      <td>data:image/png;base64,iVBORw0KGgoAAAANSUhEUgAA...</td>\n",
       "    </tr>\n",
       "  </tbody>\n",
       "</table>\n",
       "</div>"
      ],
      "text/plain": [
       "                                           job_title  \\\n",
       "0  AI/ML (Artificial Intelligence/Machine Learnin...   \n",
       "1              Artificial Intelligence (AI) Engineer   \n",
       "\n",
       "                                             job_url  \\\n",
       "0  https://wuzzuf.net/jobs/p/O9CVoliDvZQz-AIML-Ar...   \n",
       "1  https://wuzzuf.net/jobs/p/DH9EDOqivogn-Artific...   \n",
       "\n",
       "                      company_name       company_location job_post_date  \\\n",
       "0  SURE International Technology -          Cairo, Egypt     5 days ago   \n",
       "1                   Confidential -  Riyadh, Saudi Arabia    25 days ago   \n",
       "\n",
       "    job_duration job_experience_level job_experience_duration  \\\n",
       "0  {'Full Time'}              Manager         · 5+ Yrs of Exp   \n",
       "1  {'Full Time'}          Experienced      · 2 - 4 Yrs of Exp   \n",
       "\n",
       "                                            job_tags  \\\n",
       "0  [' · IT/Software Development', ' · Operations/...   \n",
       "1  [' · IT/Software Development', ' · Analyst/Res...   \n",
       "\n",
       "                                    job_requirements  \\\n",
       "0  ['Bachelor’s degree in Statistics, Computer Sc...   \n",
       "1  ['BA/BS degree in computer science or related ...   \n",
       "\n",
       "                                     job_description  \\\n",
       "0  ['Lead, mentor, and advise the ML team members...   \n",
       "1  ['Develops required machine learning models or...   \n",
       "\n",
       "                                        company_logo  \n",
       "0  https://images.wuzzuf-data.net/files/company_l...  \n",
       "1  data:image/png;base64,iVBORw0KGgoAAAANSUhEUgAA...  "
      ]
     },
     "execution_count": 51,
     "metadata": {},
     "output_type": "execute_result"
    }
   ],
   "source": [
    "# read the csv file\n",
    "df = pd.read_csv('wuzzuf_before_cleaning.csv')\n",
    "df_copy = df.copy()\n",
    "df_copy.head(2)"
   ]
  },
  {
   "cell_type": "code",
   "execution_count": 52,
   "metadata": {},
   "outputs": [
    {
     "data": {
      "text/plain": [
       "'SURE International Technology'"
      ]
     },
     "execution_count": 52,
     "metadata": {},
     "output_type": "execute_result"
    }
   ],
   "source": [
    "# data cleaning\n",
    "\n",
    "# remove the last character from the job_company_name column\n",
    "df_copy['company_name'] = df['company_name'].str[:-2]\n",
    "df_copy['company_name'][0]"
   ]
  },
  {
   "cell_type": "code",
   "execution_count": 53,
   "metadata": {},
   "outputs": [
    {
     "data": {
      "text/plain": [
       "['Cairo', 'Egypt ']"
      ]
     },
     "execution_count": 53,
     "metadata": {},
     "output_type": "execute_result"
    }
   ],
   "source": [
    "df['company_location'].str.split(', ')[0]"
   ]
  },
  {
   "cell_type": "code",
   "execution_count": 54,
   "metadata": {},
   "outputs": [
    {
     "data": {
      "text/plain": [
       "2"
      ]
     },
     "execution_count": 54,
     "metadata": {},
     "output_type": "execute_result"
    }
   ],
   "source": [
    "# create a new column for the company_location \n",
    "len_company_location = len(df['company_location'].str.split(', ')[0])\n",
    "len_company_location"
   ]
  },
  {
   "cell_type": "code",
   "execution_count": 55,
   "metadata": {},
   "outputs": [
    {
     "data": {
      "text/plain": [
       "(932, 932, 932)"
      ]
     },
     "execution_count": 55,
     "metadata": {},
     "output_type": "execute_result"
    }
   ],
   "source": [
    "locations = df['company_location']\n",
    "town = []\n",
    "city = []\n",
    "country = []\n",
    "\n",
    "for location in locations:\n",
    "    len_company_location = len(location.split(', '))\n",
    "    #print(len_company_location)\n",
    "    if len_company_location == 3:\n",
    "        town.append(location.split(', ')[0])\n",
    "        city.append(location.split(', ')[1])\n",
    "        country.append(location.split(', ')[2])\n",
    "\n",
    "    elif len_company_location == 2:\n",
    "        town.append(np.nan)\n",
    "        city.append(location.split(', ')[0])\n",
    "        country.append(location.split(', ')[1])\n",
    "\n",
    "    else:\n",
    "        town.append(np.nan)\n",
    "        city.append(np.nan)\n",
    "        country.append(location.split(', ')[0])\n",
    "\n",
    "len(town), len(city), len(country)"
   ]
  },
  {
   "cell_type": "code",
   "execution_count": 56,
   "metadata": {},
   "outputs": [
    {
     "data": {
      "text/html": [
       "<div>\n",
       "<style scoped>\n",
       "    .dataframe tbody tr th:only-of-type {\n",
       "        vertical-align: middle;\n",
       "    }\n",
       "\n",
       "    .dataframe tbody tr th {\n",
       "        vertical-align: top;\n",
       "    }\n",
       "\n",
       "    .dataframe thead th {\n",
       "        text-align: right;\n",
       "    }\n",
       "</style>\n",
       "<table border=\"1\" class=\"dataframe\">\n",
       "  <thead>\n",
       "    <tr style=\"text-align: right;\">\n",
       "      <th></th>\n",
       "      <th>job_title</th>\n",
       "      <th>job_url</th>\n",
       "      <th>company_name</th>\n",
       "      <th>company_location</th>\n",
       "      <th>job_post_date</th>\n",
       "      <th>job_duration</th>\n",
       "      <th>job_experience_level</th>\n",
       "      <th>job_experience_duration</th>\n",
       "      <th>job_tags</th>\n",
       "      <th>job_requirements</th>\n",
       "      <th>job_description</th>\n",
       "      <th>company_logo</th>\n",
       "      <th>town</th>\n",
       "      <th>city</th>\n",
       "      <th>country</th>\n",
       "    </tr>\n",
       "  </thead>\n",
       "  <tbody>\n",
       "    <tr>\n",
       "      <th>0</th>\n",
       "      <td>AI/ML (Artificial Intelligence/Machine Learnin...</td>\n",
       "      <td>https://wuzzuf.net/jobs/p/O9CVoliDvZQz-AIML-Ar...</td>\n",
       "      <td>SURE International Technology</td>\n",
       "      <td>Cairo, Egypt</td>\n",
       "      <td>5 days ago</td>\n",
       "      <td>{'Full Time'}</td>\n",
       "      <td>Manager</td>\n",
       "      <td>· 5+ Yrs of Exp</td>\n",
       "      <td>[' · IT/Software Development', ' · Operations/...</td>\n",
       "      <td>['Bachelor’s degree in Statistics, Computer Sc...</td>\n",
       "      <td>['Lead, mentor, and advise the ML team members...</td>\n",
       "      <td>https://images.wuzzuf-data.net/files/company_l...</td>\n",
       "      <td>NaN</td>\n",
       "      <td>Cairo</td>\n",
       "      <td>Egypt</td>\n",
       "    </tr>\n",
       "    <tr>\n",
       "      <th>1</th>\n",
       "      <td>Artificial Intelligence (AI) Engineer</td>\n",
       "      <td>https://wuzzuf.net/jobs/p/DH9EDOqivogn-Artific...</td>\n",
       "      <td>Confidential</td>\n",
       "      <td>Riyadh, Saudi Arabia</td>\n",
       "      <td>25 days ago</td>\n",
       "      <td>{'Full Time'}</td>\n",
       "      <td>Experienced</td>\n",
       "      <td>· 2 - 4 Yrs of Exp</td>\n",
       "      <td>[' · IT/Software Development', ' · Analyst/Res...</td>\n",
       "      <td>['BA/BS degree in computer science or related ...</td>\n",
       "      <td>['Develops required machine learning models or...</td>\n",
       "      <td>data:image/png;base64,iVBORw0KGgoAAAANSUhEUgAA...</td>\n",
       "      <td>NaN</td>\n",
       "      <td>Riyadh</td>\n",
       "      <td>Saudi Arabia</td>\n",
       "    </tr>\n",
       "  </tbody>\n",
       "</table>\n",
       "</div>"
      ],
      "text/plain": [
       "                                           job_title  \\\n",
       "0  AI/ML (Artificial Intelligence/Machine Learnin...   \n",
       "1              Artificial Intelligence (AI) Engineer   \n",
       "\n",
       "                                             job_url  \\\n",
       "0  https://wuzzuf.net/jobs/p/O9CVoliDvZQz-AIML-Ar...   \n",
       "1  https://wuzzuf.net/jobs/p/DH9EDOqivogn-Artific...   \n",
       "\n",
       "                    company_name       company_location job_post_date  \\\n",
       "0  SURE International Technology          Cairo, Egypt     5 days ago   \n",
       "1                   Confidential  Riyadh, Saudi Arabia    25 days ago   \n",
       "\n",
       "    job_duration job_experience_level job_experience_duration  \\\n",
       "0  {'Full Time'}              Manager         · 5+ Yrs of Exp   \n",
       "1  {'Full Time'}          Experienced      · 2 - 4 Yrs of Exp   \n",
       "\n",
       "                                            job_tags  \\\n",
       "0  [' · IT/Software Development', ' · Operations/...   \n",
       "1  [' · IT/Software Development', ' · Analyst/Res...   \n",
       "\n",
       "                                    job_requirements  \\\n",
       "0  ['Bachelor’s degree in Statistics, Computer Sc...   \n",
       "1  ['BA/BS degree in computer science or related ...   \n",
       "\n",
       "                                     job_description  \\\n",
       "0  ['Lead, mentor, and advise the ML team members...   \n",
       "1  ['Develops required machine learning models or...   \n",
       "\n",
       "                                        company_logo town    city  \\\n",
       "0  https://images.wuzzuf-data.net/files/company_l...  NaN   Cairo   \n",
       "1  data:image/png;base64,iVBORw0KGgoAAAANSUhEUgAA...  NaN  Riyadh   \n",
       "\n",
       "         country  \n",
       "0         Egypt   \n",
       "1  Saudi Arabia   "
      ]
     },
     "execution_count": 56,
     "metadata": {},
     "output_type": "execute_result"
    }
   ],
   "source": [
    "df_copy['town'] = town\n",
    "df_copy['city'] = city\n",
    "df_copy['country'] = country\n",
    "\n",
    "df_copy.head(2)"
   ]
  },
  {
   "cell_type": "code",
   "execution_count": 57,
   "metadata": {},
   "outputs": [
    {
     "data": {
      "text/plain": [
       "(932, 932, 932)"
      ]
     },
     "execution_count": 57,
     "metadata": {},
     "output_type": "execute_result"
    }
   ],
   "source": [
    "# clean the job_post_date column\n",
    "# if there is a day * 1\n",
    "# if there is a week * 7\n",
    "# if there is a month * 30\n",
    "# if there is a year * 365\n",
    "\n",
    "date_list = df_copy['job_post_date']\n",
    "days = []\n",
    "months = []\n",
    "hours = []\n",
    "for date in date_list:\n",
    "    try:\n",
    "        if 'day' in date:\n",
    "            days.append(int(date.split(' ')[0]))\n",
    "            months.append(np.nan)\n",
    "            hours.append(np.nan)\n",
    "        elif 'month' in date:\n",
    "            days.append(np.nan)\n",
    "            months.append(int(date.split(' ')[0]))\n",
    "            hours.append(np.nan)\n",
    "        elif 'hours' in date:\n",
    "            days.append(np.nan)\n",
    "            months.append(np.nan)\n",
    "            hours.append(int(date.split(' ')[0]))\n",
    "    except:\n",
    "        print('1')\n",
    "        days.append(np.nan)\n",
    "        months.append(np.nan)\n",
    "        hours.append(np.nan)\n",
    "\n",
    "len(days), len(months), len(hours)"
   ]
  },
  {
   "cell_type": "code",
   "execution_count": 58,
   "metadata": {},
   "outputs": [
    {
     "data": {
      "text/html": [
       "<div>\n",
       "<style scoped>\n",
       "    .dataframe tbody tr th:only-of-type {\n",
       "        vertical-align: middle;\n",
       "    }\n",
       "\n",
       "    .dataframe tbody tr th {\n",
       "        vertical-align: top;\n",
       "    }\n",
       "\n",
       "    .dataframe thead th {\n",
       "        text-align: right;\n",
       "    }\n",
       "</style>\n",
       "<table border=\"1\" class=\"dataframe\">\n",
       "  <thead>\n",
       "    <tr style=\"text-align: right;\">\n",
       "      <th></th>\n",
       "      <th>job_title</th>\n",
       "      <th>job_url</th>\n",
       "      <th>company_name</th>\n",
       "      <th>company_location</th>\n",
       "      <th>job_post_date</th>\n",
       "      <th>job_duration</th>\n",
       "      <th>job_experience_level</th>\n",
       "      <th>job_experience_duration</th>\n",
       "      <th>job_tags</th>\n",
       "      <th>job_requirements</th>\n",
       "      <th>job_description</th>\n",
       "      <th>company_logo</th>\n",
       "      <th>town</th>\n",
       "      <th>city</th>\n",
       "      <th>country</th>\n",
       "      <th>post_date_days</th>\n",
       "      <th>post_date_months</th>\n",
       "      <th>post_date_hours</th>\n",
       "    </tr>\n",
       "  </thead>\n",
       "  <tbody>\n",
       "    <tr>\n",
       "      <th>0</th>\n",
       "      <td>AI/ML (Artificial Intelligence/Machine Learnin...</td>\n",
       "      <td>https://wuzzuf.net/jobs/p/O9CVoliDvZQz-AIML-Ar...</td>\n",
       "      <td>SURE International Technology</td>\n",
       "      <td>Cairo, Egypt</td>\n",
       "      <td>5 days ago</td>\n",
       "      <td>{'Full Time'}</td>\n",
       "      <td>Manager</td>\n",
       "      <td>· 5+ Yrs of Exp</td>\n",
       "      <td>[' · IT/Software Development', ' · Operations/...</td>\n",
       "      <td>['Bachelor’s degree in Statistics, Computer Sc...</td>\n",
       "      <td>['Lead, mentor, and advise the ML team members...</td>\n",
       "      <td>https://images.wuzzuf-data.net/files/company_l...</td>\n",
       "      <td>NaN</td>\n",
       "      <td>Cairo</td>\n",
       "      <td>Egypt</td>\n",
       "      <td>5.0</td>\n",
       "      <td>NaN</td>\n",
       "      <td>NaN</td>\n",
       "    </tr>\n",
       "    <tr>\n",
       "      <th>1</th>\n",
       "      <td>Artificial Intelligence (AI) Engineer</td>\n",
       "      <td>https://wuzzuf.net/jobs/p/DH9EDOqivogn-Artific...</td>\n",
       "      <td>Confidential</td>\n",
       "      <td>Riyadh, Saudi Arabia</td>\n",
       "      <td>25 days ago</td>\n",
       "      <td>{'Full Time'}</td>\n",
       "      <td>Experienced</td>\n",
       "      <td>· 2 - 4 Yrs of Exp</td>\n",
       "      <td>[' · IT/Software Development', ' · Analyst/Res...</td>\n",
       "      <td>['BA/BS degree in computer science or related ...</td>\n",
       "      <td>['Develops required machine learning models or...</td>\n",
       "      <td>data:image/png;base64,iVBORw0KGgoAAAANSUhEUgAA...</td>\n",
       "      <td>NaN</td>\n",
       "      <td>Riyadh</td>\n",
       "      <td>Saudi Arabia</td>\n",
       "      <td>25.0</td>\n",
       "      <td>NaN</td>\n",
       "      <td>NaN</td>\n",
       "    </tr>\n",
       "  </tbody>\n",
       "</table>\n",
       "</div>"
      ],
      "text/plain": [
       "                                           job_title  \\\n",
       "0  AI/ML (Artificial Intelligence/Machine Learnin...   \n",
       "1              Artificial Intelligence (AI) Engineer   \n",
       "\n",
       "                                             job_url  \\\n",
       "0  https://wuzzuf.net/jobs/p/O9CVoliDvZQz-AIML-Ar...   \n",
       "1  https://wuzzuf.net/jobs/p/DH9EDOqivogn-Artific...   \n",
       "\n",
       "                    company_name       company_location job_post_date  \\\n",
       "0  SURE International Technology          Cairo, Egypt     5 days ago   \n",
       "1                   Confidential  Riyadh, Saudi Arabia    25 days ago   \n",
       "\n",
       "    job_duration job_experience_level job_experience_duration  \\\n",
       "0  {'Full Time'}              Manager         · 5+ Yrs of Exp   \n",
       "1  {'Full Time'}          Experienced      · 2 - 4 Yrs of Exp   \n",
       "\n",
       "                                            job_tags  \\\n",
       "0  [' · IT/Software Development', ' · Operations/...   \n",
       "1  [' · IT/Software Development', ' · Analyst/Res...   \n",
       "\n",
       "                                    job_requirements  \\\n",
       "0  ['Bachelor’s degree in Statistics, Computer Sc...   \n",
       "1  ['BA/BS degree in computer science or related ...   \n",
       "\n",
       "                                     job_description  \\\n",
       "0  ['Lead, mentor, and advise the ML team members...   \n",
       "1  ['Develops required machine learning models or...   \n",
       "\n",
       "                                        company_logo town    city  \\\n",
       "0  https://images.wuzzuf-data.net/files/company_l...  NaN   Cairo   \n",
       "1  data:image/png;base64,iVBORw0KGgoAAAANSUhEUgAA...  NaN  Riyadh   \n",
       "\n",
       "         country  post_date_days  post_date_months  post_date_hours  \n",
       "0         Egypt              5.0               NaN              NaN  \n",
       "1  Saudi Arabia             25.0               NaN              NaN  "
      ]
     },
     "execution_count": 58,
     "metadata": {},
     "output_type": "execute_result"
    }
   ],
   "source": [
    "\n",
    "df_copy['post_date_days'] = days\n",
    "df_copy['post_date_months'] = months\n",
    "df_copy['post_date_hours'] = hours\n",
    "\n",
    "df_copy.head(2)"
   ]
  },
  {
   "cell_type": "code",
   "execution_count": 59,
   "metadata": {},
   "outputs": [],
   "source": [
    "# clean the job_duration column\n",
    "full_time = []\n",
    "part_time = []\n",
    "freelance = []\n",
    "internship = []\n",
    "temporary = []\n",
    "project = []\n",
    "\n"
   ]
  },
  {
   "cell_type": "code",
   "execution_count": 60,
   "metadata": {},
   "outputs": [
    {
     "data": {
      "text/plain": [
       "0                        {'Full Time'}\n",
       "1                        {'Full Time'}\n",
       "2      {'Full Time', 'Work From Home'}\n",
       "3                        {'Full Time'}\n",
       "4                        {'Full Time'}\n",
       "                    ...               \n",
       "927                      {'Full Time'}\n",
       "928                      {'Full Time'}\n",
       "929                      {'Full Time'}\n",
       "930                      {'Full Time'}\n",
       "931                      {'Full Time'}\n",
       "Name: job_duration, Length: 932, dtype: object"
      ]
     },
     "execution_count": 60,
     "metadata": {},
     "output_type": "execute_result"
    }
   ],
   "source": [
    "job_duration_list = df_copy['job_duration']\n",
    "job_duration_list"
   ]
  },
  {
   "cell_type": "code",
   "execution_count": 61,
   "metadata": {},
   "outputs": [
    {
     "data": {
      "text/plain": [
       "(932, 932, 932, 932, 0, 932)"
      ]
     },
     "execution_count": 61,
     "metadata": {},
     "output_type": "execute_result"
    }
   ],
   "source": [
    "for job_duration in job_duration_list:\n",
    "    if 'Full Time' in job_duration:\n",
    "        full_time.append(1)\n",
    "    else:\n",
    "        full_time.append(0)\n",
    "    if 'Part Time' in job_duration:\n",
    "        part_time.append(1)\n",
    "    else:\n",
    "        part_time.append(0)\n",
    "    if 'Freelance' in job_duration:\n",
    "        freelance.append(1)\n",
    "    else:\n",
    "        freelance.append(0)\n",
    "    if 'Internship' in job_duration:\n",
    "        internship.append(1)\n",
    "    else:\n",
    "        internship.append(0)\n",
    "    if 'Project' in job_duration:\n",
    "        project.append(1)\n",
    "    else:\n",
    "        project.append(0)\n",
    "\n",
    "len(full_time), len(part_time), len(freelance), len(internship), len(temporary), len(project)"
   ]
  },
  {
   "cell_type": "code",
   "execution_count": 62,
   "metadata": {},
   "outputs": [],
   "source": [
    "df_copy['full_time'] = full_time\n",
    "df_copy['part_time'] = part_time\n",
    "df_copy['freelance'] = freelance\n",
    "df_copy['internship'] = internship\n",
    "df_copy['project'] = project\n"
   ]
  },
  {
   "cell_type": "code",
   "execution_count": 63,
   "metadata": {},
   "outputs": [
    {
     "data": {
      "text/html": [
       "<div>\n",
       "<style scoped>\n",
       "    .dataframe tbody tr th:only-of-type {\n",
       "        vertical-align: middle;\n",
       "    }\n",
       "\n",
       "    .dataframe tbody tr th {\n",
       "        vertical-align: top;\n",
       "    }\n",
       "\n",
       "    .dataframe thead th {\n",
       "        text-align: right;\n",
       "    }\n",
       "</style>\n",
       "<table border=\"1\" class=\"dataframe\">\n",
       "  <thead>\n",
       "    <tr style=\"text-align: right;\">\n",
       "      <th></th>\n",
       "      <th>job_title</th>\n",
       "      <th>job_url</th>\n",
       "      <th>company_name</th>\n",
       "      <th>company_location</th>\n",
       "      <th>job_post_date</th>\n",
       "      <th>job_duration</th>\n",
       "      <th>job_experience_level</th>\n",
       "      <th>job_experience_duration</th>\n",
       "      <th>job_tags</th>\n",
       "      <th>job_requirements</th>\n",
       "      <th>...</th>\n",
       "      <th>city</th>\n",
       "      <th>country</th>\n",
       "      <th>post_date_days</th>\n",
       "      <th>post_date_months</th>\n",
       "      <th>post_date_hours</th>\n",
       "      <th>full_time</th>\n",
       "      <th>part_time</th>\n",
       "      <th>freelance</th>\n",
       "      <th>internship</th>\n",
       "      <th>project</th>\n",
       "    </tr>\n",
       "  </thead>\n",
       "  <tbody>\n",
       "    <tr>\n",
       "      <th>0</th>\n",
       "      <td>AI/ML (Artificial Intelligence/Machine Learnin...</td>\n",
       "      <td>https://wuzzuf.net/jobs/p/O9CVoliDvZQz-AIML-Ar...</td>\n",
       "      <td>SURE International Technology</td>\n",
       "      <td>Cairo, Egypt</td>\n",
       "      <td>5 days ago</td>\n",
       "      <td>{'Full Time'}</td>\n",
       "      <td>Manager</td>\n",
       "      <td>· 5+ Yrs of Exp</td>\n",
       "      <td>[' · IT/Software Development', ' · Operations/...</td>\n",
       "      <td>['Bachelor’s degree in Statistics, Computer Sc...</td>\n",
       "      <td>...</td>\n",
       "      <td>Cairo</td>\n",
       "      <td>Egypt</td>\n",
       "      <td>5.0</td>\n",
       "      <td>NaN</td>\n",
       "      <td>NaN</td>\n",
       "      <td>1</td>\n",
       "      <td>0</td>\n",
       "      <td>0</td>\n",
       "      <td>0</td>\n",
       "      <td>0</td>\n",
       "    </tr>\n",
       "    <tr>\n",
       "      <th>1</th>\n",
       "      <td>Artificial Intelligence (AI) Engineer</td>\n",
       "      <td>https://wuzzuf.net/jobs/p/DH9EDOqivogn-Artific...</td>\n",
       "      <td>Confidential</td>\n",
       "      <td>Riyadh, Saudi Arabia</td>\n",
       "      <td>25 days ago</td>\n",
       "      <td>{'Full Time'}</td>\n",
       "      <td>Experienced</td>\n",
       "      <td>· 2 - 4 Yrs of Exp</td>\n",
       "      <td>[' · IT/Software Development', ' · Analyst/Res...</td>\n",
       "      <td>['BA/BS degree in computer science or related ...</td>\n",
       "      <td>...</td>\n",
       "      <td>Riyadh</td>\n",
       "      <td>Saudi Arabia</td>\n",
       "      <td>25.0</td>\n",
       "      <td>NaN</td>\n",
       "      <td>NaN</td>\n",
       "      <td>1</td>\n",
       "      <td>0</td>\n",
       "      <td>0</td>\n",
       "      <td>0</td>\n",
       "      <td>0</td>\n",
       "    </tr>\n",
       "  </tbody>\n",
       "</table>\n",
       "<p>2 rows × 23 columns</p>\n",
       "</div>"
      ],
      "text/plain": [
       "                                           job_title  \\\n",
       "0  AI/ML (Artificial Intelligence/Machine Learnin...   \n",
       "1              Artificial Intelligence (AI) Engineer   \n",
       "\n",
       "                                             job_url  \\\n",
       "0  https://wuzzuf.net/jobs/p/O9CVoliDvZQz-AIML-Ar...   \n",
       "1  https://wuzzuf.net/jobs/p/DH9EDOqivogn-Artific...   \n",
       "\n",
       "                    company_name       company_location job_post_date  \\\n",
       "0  SURE International Technology          Cairo, Egypt     5 days ago   \n",
       "1                   Confidential  Riyadh, Saudi Arabia    25 days ago   \n",
       "\n",
       "    job_duration job_experience_level job_experience_duration  \\\n",
       "0  {'Full Time'}              Manager         · 5+ Yrs of Exp   \n",
       "1  {'Full Time'}          Experienced      · 2 - 4 Yrs of Exp   \n",
       "\n",
       "                                            job_tags  \\\n",
       "0  [' · IT/Software Development', ' · Operations/...   \n",
       "1  [' · IT/Software Development', ' · Analyst/Res...   \n",
       "\n",
       "                                    job_requirements  ...    city  \\\n",
       "0  ['Bachelor’s degree in Statistics, Computer Sc...  ...   Cairo   \n",
       "1  ['BA/BS degree in computer science or related ...  ...  Riyadh   \n",
       "\n",
       "         country post_date_days post_date_months post_date_hours  full_time  \\\n",
       "0         Egypt             5.0              NaN             NaN          1   \n",
       "1  Saudi Arabia            25.0              NaN             NaN          1   \n",
       "\n",
       "   part_time  freelance  internship  project  \n",
       "0          0          0           0        0  \n",
       "1          0          0           0        0  \n",
       "\n",
       "[2 rows x 23 columns]"
      ]
     },
     "execution_count": 63,
     "metadata": {},
     "output_type": "execute_result"
    }
   ],
   "source": [
    "df_copy.head(2)"
   ]
  },
  {
   "cell_type": "code",
   "execution_count": 64,
   "metadata": {},
   "outputs": [
    {
     "data": {
      "text/plain": [
       "array(['· 5+ Yrs of Exp', '· 2 - 4 Yrs of Exp', '· 3 - 6 Yrs of Exp',\n",
       "       '· 2 - 5 Yrs of Exp', '· 4+ Yrs of Exp', '· 6+ Yrs of Exp',\n",
       "       '· 3 - 5 Yrs of Exp', '· 1+ Yrs of Exp', '· 3 - 7 Yrs of Exp',\n",
       "       '· 1 - 4 Yrs of Exp', '· 0 - 5 Yrs of Exp', '· 1 - 3 Yrs of Exp',\n",
       "       '· 1 - 5 Yrs of Exp', '· 2+ Yrs of Exp', '· 3+ Yrs of Exp',\n",
       "       '· 7 - 10 Yrs of Exp', '· 6 - 20 Yrs of Exp', '· 4 - 6 Yrs of Exp',\n",
       "       '· 0 - 3 Yrs of Exp', '· 5 - 8 Yrs of Exp', '· 5 - 10 Yrs of Exp',\n",
       "       '· 0 - 1 Yrs of Exp', '· 0 - 2 Yrs of Exp', '· 4 - 9 Yrs of Exp',\n",
       "       '· 5 - 12 Yrs of Exp', '· 3 - 4 Yrs of Exp', '· 10+ Yrs of Exp',\n",
       "       '· 5 - 9 Yrs of Exp', '· 3 - 18 Yrs of Exp', '· 2 - 6 Yrs of Exp',\n",
       "       '· 5 - 7 Yrs of Exp', '· 5 - 5 Yrs of Exp', '· 8+ Yrs of Exp',\n",
       "       '· 6 - 10 Yrs of Exp', '· 2 - 3 Yrs of Exp', '· 5 - 15 Yrs of Exp',\n",
       "       '· 2 - 10 Yrs of Exp', '· 1 - 2 Yrs of Exp',\n",
       "       '· 15 - 20 Yrs of Exp', '· 4 - 10 Yrs of Exp',\n",
       "       '· 3 - 8 Yrs of Exp', '· 7+ Yrs of Exp', '· 7 - 9 Yrs of Exp',\n",
       "       '· 4 - 5 Yrs of Exp', '· 4 - 7 Yrs of Exp', '· 4 - 8 Yrs of Exp',\n",
       "       '· 6 - 8 Yrs of Exp', '· 7 - 15 Yrs of Exp', '· 8 - 10 Yrs of Exp',\n",
       "       '· 3 - 10 Yrs of Exp', '· 5 - 6 Yrs of Exp', '· 6 - 13 Yrs of Exp',\n",
       "       '· 12+ Yrs of Exp', '· 1 - 7 Yrs of Exp', '· 12 - 15 Yrs of Exp',\n",
       "       '· 9 - 12 Yrs of Exp', '· 1 - 6 Yrs of Exp', '· 4 - 12 Yrs of Exp',\n",
       "       '· 6 - 9 Yrs of Exp', '· 0 - 9 Yrs of Exp', '· 9 - 11 Yrs of Exp',\n",
       "       '· 8 - 15 Yrs of Exp', '· 3 - 14 Yrs of Exp',\n",
       "       '· 1 - 10 Yrs of Exp', '· 8 - 12 Yrs of Exp',\n",
       "       '· 7 - 12 Yrs of Exp', '· 10 - 12 Yrs of Exp',\n",
       "       '· 5 - 20 Yrs of Exp', 'Data Entry', '· 20+ Yrs of Exp', nan,\n",
       "       '· 10 - 15 Yrs of Exp', '· 6 - 15 Yrs of Exp', '· females_only',\n",
       "       '· 12 - 20 Yrs of Exp', '· 10 - 20 Yrs of Exp'], dtype=object)"
      ]
     },
     "execution_count": 64,
     "metadata": {},
     "output_type": "execute_result"
    }
   ],
   "source": [
    "# get the job_experience_duration column\n",
    "df_copy['job_experience_duration'].unique()\n"
   ]
  },
  {
   "cell_type": "code",
   "execution_count": 65,
   "metadata": {},
   "outputs": [
    {
     "data": {
      "text/plain": [
       "932"
      ]
     },
     "execution_count": 65,
     "metadata": {},
     "output_type": "execute_result"
    }
   ],
   "source": [
    "# create a new column for the minimum experience\n",
    "min_experience = df_copy['job_experience_duration']\n",
    "# remove the first two characters from the job_experience_duration column\n",
    "experience_list = []\n",
    "for experience in min_experience:\n",
    "    try:\n",
    "        experience = experience[2:]\n",
    "        experience = experience.split(' ')[0]\n",
    "        # remove the + sign from the experience\n",
    "        experience = experience.replace('+', '')\n",
    "        experience_list.append(int(experience))\n",
    "    except:\n",
    "        experience_list.append(np.nan)\n",
    "\n",
    "len(experience_list)\n",
    "\n"
   ]
  },
  {
   "cell_type": "code",
   "execution_count": 66,
   "metadata": {},
   "outputs": [
    {
     "data": {
      "text/plain": [
       "[5, 2, 3, 2, 5]"
      ]
     },
     "execution_count": 66,
     "metadata": {},
     "output_type": "execute_result"
    }
   ],
   "source": [
    "experience_list[:5]"
   ]
  },
  {
   "cell_type": "code",
   "execution_count": 67,
   "metadata": {},
   "outputs": [
    {
     "data": {
      "text/html": [
       "<div>\n",
       "<style scoped>\n",
       "    .dataframe tbody tr th:only-of-type {\n",
       "        vertical-align: middle;\n",
       "    }\n",
       "\n",
       "    .dataframe tbody tr th {\n",
       "        vertical-align: top;\n",
       "    }\n",
       "\n",
       "    .dataframe thead th {\n",
       "        text-align: right;\n",
       "    }\n",
       "</style>\n",
       "<table border=\"1\" class=\"dataframe\">\n",
       "  <thead>\n",
       "    <tr style=\"text-align: right;\">\n",
       "      <th></th>\n",
       "      <th>job_title</th>\n",
       "      <th>job_url</th>\n",
       "      <th>company_name</th>\n",
       "      <th>company_location</th>\n",
       "      <th>job_post_date</th>\n",
       "      <th>job_duration</th>\n",
       "      <th>job_experience_level</th>\n",
       "      <th>job_experience_duration</th>\n",
       "      <th>job_tags</th>\n",
       "      <th>job_requirements</th>\n",
       "      <th>...</th>\n",
       "      <th>country</th>\n",
       "      <th>post_date_days</th>\n",
       "      <th>post_date_months</th>\n",
       "      <th>post_date_hours</th>\n",
       "      <th>full_time</th>\n",
       "      <th>part_time</th>\n",
       "      <th>freelance</th>\n",
       "      <th>internship</th>\n",
       "      <th>project</th>\n",
       "      <th>min_experience</th>\n",
       "    </tr>\n",
       "  </thead>\n",
       "  <tbody>\n",
       "    <tr>\n",
       "      <th>0</th>\n",
       "      <td>AI/ML (Artificial Intelligence/Machine Learnin...</td>\n",
       "      <td>https://wuzzuf.net/jobs/p/O9CVoliDvZQz-AIML-Ar...</td>\n",
       "      <td>SURE International Technology</td>\n",
       "      <td>Cairo, Egypt</td>\n",
       "      <td>5 days ago</td>\n",
       "      <td>{'Full Time'}</td>\n",
       "      <td>Manager</td>\n",
       "      <td>· 5+ Yrs of Exp</td>\n",
       "      <td>[' · IT/Software Development', ' · Operations/...</td>\n",
       "      <td>['Bachelor’s degree in Statistics, Computer Sc...</td>\n",
       "      <td>...</td>\n",
       "      <td>Egypt</td>\n",
       "      <td>5.0</td>\n",
       "      <td>NaN</td>\n",
       "      <td>NaN</td>\n",
       "      <td>1</td>\n",
       "      <td>0</td>\n",
       "      <td>0</td>\n",
       "      <td>0</td>\n",
       "      <td>0</td>\n",
       "      <td>5.0</td>\n",
       "    </tr>\n",
       "    <tr>\n",
       "      <th>1</th>\n",
       "      <td>Artificial Intelligence (AI) Engineer</td>\n",
       "      <td>https://wuzzuf.net/jobs/p/DH9EDOqivogn-Artific...</td>\n",
       "      <td>Confidential</td>\n",
       "      <td>Riyadh, Saudi Arabia</td>\n",
       "      <td>25 days ago</td>\n",
       "      <td>{'Full Time'}</td>\n",
       "      <td>Experienced</td>\n",
       "      <td>· 2 - 4 Yrs of Exp</td>\n",
       "      <td>[' · IT/Software Development', ' · Analyst/Res...</td>\n",
       "      <td>['BA/BS degree in computer science or related ...</td>\n",
       "      <td>...</td>\n",
       "      <td>Saudi Arabia</td>\n",
       "      <td>25.0</td>\n",
       "      <td>NaN</td>\n",
       "      <td>NaN</td>\n",
       "      <td>1</td>\n",
       "      <td>0</td>\n",
       "      <td>0</td>\n",
       "      <td>0</td>\n",
       "      <td>0</td>\n",
       "      <td>2.0</td>\n",
       "    </tr>\n",
       "  </tbody>\n",
       "</table>\n",
       "<p>2 rows × 24 columns</p>\n",
       "</div>"
      ],
      "text/plain": [
       "                                           job_title  \\\n",
       "0  AI/ML (Artificial Intelligence/Machine Learnin...   \n",
       "1              Artificial Intelligence (AI) Engineer   \n",
       "\n",
       "                                             job_url  \\\n",
       "0  https://wuzzuf.net/jobs/p/O9CVoliDvZQz-AIML-Ar...   \n",
       "1  https://wuzzuf.net/jobs/p/DH9EDOqivogn-Artific...   \n",
       "\n",
       "                    company_name       company_location job_post_date  \\\n",
       "0  SURE International Technology          Cairo, Egypt     5 days ago   \n",
       "1                   Confidential  Riyadh, Saudi Arabia    25 days ago   \n",
       "\n",
       "    job_duration job_experience_level job_experience_duration  \\\n",
       "0  {'Full Time'}              Manager         · 5+ Yrs of Exp   \n",
       "1  {'Full Time'}          Experienced      · 2 - 4 Yrs of Exp   \n",
       "\n",
       "                                            job_tags  \\\n",
       "0  [' · IT/Software Development', ' · Operations/...   \n",
       "1  [' · IT/Software Development', ' · Analyst/Res...   \n",
       "\n",
       "                                    job_requirements  ...        country  \\\n",
       "0  ['Bachelor’s degree in Statistics, Computer Sc...  ...         Egypt    \n",
       "1  ['BA/BS degree in computer science or related ...  ...  Saudi Arabia    \n",
       "\n",
       "  post_date_days post_date_months post_date_hours full_time  part_time  \\\n",
       "0            5.0              NaN             NaN         1          0   \n",
       "1           25.0              NaN             NaN         1          0   \n",
       "\n",
       "   freelance  internship  project  min_experience  \n",
       "0          0           0        0             5.0  \n",
       "1          0           0        0             2.0  \n",
       "\n",
       "[2 rows x 24 columns]"
      ]
     },
     "execution_count": 67,
     "metadata": {},
     "output_type": "execute_result"
    }
   ],
   "source": [
    "df_copy['min_experience'] = experience_list\n",
    "df_copy.head(2)"
   ]
  },
  {
   "cell_type": "code",
   "execution_count": 68,
   "metadata": {},
   "outputs": [
    {
     "data": {
      "text/plain": [
       "3.0     239\n",
       "2.0     183\n",
       "5.0     146\n",
       "1.0     121\n",
       "4.0      86\n",
       "0.0      54\n",
       "7.0      36\n",
       "6.0      21\n",
       "8.0      16\n",
       "10.0     15\n",
       "12.0      6\n",
       "15.0      3\n",
       "9.0       2\n",
       "20.0      1\n",
       "Name: min_experience, dtype: int64"
      ]
     },
     "execution_count": 68,
     "metadata": {},
     "output_type": "execute_result"
    }
   ],
   "source": [
    "df_copy['min_experience'].value_counts()"
   ]
  },
  {
   "cell_type": "code",
   "execution_count": 69,
   "metadata": {},
   "outputs": [
    {
     "data": {
      "image/png": "[encoded data removed]",
      "text/plain": [
       "<Figure size 720x432 with 1 Axes>"
      ]
     },
     "metadata": {},
     "output_type": "display_data"
    }
   ],
   "source": [
    "# plot the min_experience column\n",
    "import matplotlib.pyplot as plt\n",
    "import seaborn as sns\n",
    "sns.set_style('whitegrid')\n",
    "plt.figure(figsize=(10, 6))\n",
    "sns.countplot(x='min_experience', data=df_copy)\n",
    "plt.title('Minimum Experience')\n",
    "plt.show()\n"
   ]
  },
  {
   "cell_type": "code",
   "execution_count": 70,
   "metadata": {},
   "outputs": [
    {
     "data": {
      "text/plain": [
       "Experienced          655\n",
       "Entry Level          167\n",
       "Manager               99\n",
       "Senior Management     10\n",
       "Name: job_experience_level, dtype: int64"
      ]
     },
     "execution_count": 70,
     "metadata": {},
     "output_type": "execute_result"
    }
   ],
   "source": [
    "df['job_experience_level'].value_counts()"
   ]
  },
  {
   "cell_type": "code",
   "execution_count": 71,
   "metadata": {},
   "outputs": [
    {
     "data": {
      "image/png": "[encoded data removed]",
      "text/plain": [
       "<Figure size 720x432 with 1 Axes>"
      ]
     },
     "metadata": {},
     "output_type": "display_data"
    }
   ],
   "source": [
    "# plot the job_experience_level column\n",
    "plt.figure(figsize=(10, 6))\n",
    "sns.countplot(x='job_experience_level', data=df_copy)\n",
    "plt.title('Job Experience Level')\n",
    "plt.show()\n"
   ]
  },
  {
   "cell_type": "code",
   "execution_count": 72,
   "metadata": {},
   "outputs": [
    {
     "data": {
      "text/plain": [
       "932"
      ]
     },
     "execution_count": 72,
     "metadata": {},
     "output_type": "execute_result"
    }
   ],
   "source": [
    "from unittest import skip\n",
    "\n",
    "\n",
    "job_tags = df_copy['job_tags']\n",
    "\n",
    "job_tags_list = []\n",
    "for job_tag in job_tags:\n",
    "    skip\n",
    "\n",
    "job_tag.split(',')\n",
    "\n",
    "# remove all the unnatural characters from the job_tag string using regex\n",
    "import re\n",
    "job_tags = df_copy['job_tags']\n",
    "job_tags_list = []\n",
    "for job_tag in job_tags:\n",
    "    try:\n",
    "        job_tag = re.sub(r'[^\\w\\s]','', job_tag)\n",
    "        # remove spaces from the job_tag string\n",
    "        job_tag = job_tag.split('  ')\n",
    "        # remove the first item from the list\n",
    "        job_tag = job_tag[1:]\n",
    "        job_tags_list.append(job_tag)\n",
    "    except:\n",
    "        job_tags_list.append(np.nan)\n",
    "\n",
    "len(job_tags_list)\n"
   ]
  },
  {
   "cell_type": "code",
   "execution_count": 73,
   "metadata": {},
   "outputs": [
    {
     "data": {
      "text/plain": [
       "['ITSoftware Development',\n",
       " ' AnalystResearch',\n",
       " ' Engineering',\n",
       " 'TelecomTechnology Artificial Intelligence',\n",
       " ' Computer Science',\n",
       " ' English',\n",
       " ' Information Technology IT',\n",
       " ' Software Engineering']"
      ]
     },
     "execution_count": 73,
     "metadata": {},
     "output_type": "execute_result"
    }
   ],
   "source": [
    "job_tags_list[1]"
   ]
  },
  {
   "cell_type": "code",
   "execution_count": 74,
   "metadata": {},
   "outputs": [
    {
     "data": {
      "text/html": [
       "<div>\n",
       "<style scoped>\n",
       "    .dataframe tbody tr th:only-of-type {\n",
       "        vertical-align: middle;\n",
       "    }\n",
       "\n",
       "    .dataframe tbody tr th {\n",
       "        vertical-align: top;\n",
       "    }\n",
       "\n",
       "    .dataframe thead th {\n",
       "        text-align: right;\n",
       "    }\n",
       "</style>\n",
       "<table border=\"1\" class=\"dataframe\">\n",
       "  <thead>\n",
       "    <tr style=\"text-align: right;\">\n",
       "      <th></th>\n",
       "      <th>job_title</th>\n",
       "      <th>job_url</th>\n",
       "      <th>company_name</th>\n",
       "      <th>company_location</th>\n",
       "      <th>job_post_date</th>\n",
       "      <th>job_duration</th>\n",
       "      <th>job_experience_level</th>\n",
       "      <th>job_experience_duration</th>\n",
       "      <th>job_tags</th>\n",
       "      <th>job_requirements</th>\n",
       "      <th>...</th>\n",
       "      <th>country</th>\n",
       "      <th>post_date_days</th>\n",
       "      <th>post_date_months</th>\n",
       "      <th>post_date_hours</th>\n",
       "      <th>full_time</th>\n",
       "      <th>part_time</th>\n",
       "      <th>freelance</th>\n",
       "      <th>internship</th>\n",
       "      <th>project</th>\n",
       "      <th>min_experience</th>\n",
       "    </tr>\n",
       "  </thead>\n",
       "  <tbody>\n",
       "    <tr>\n",
       "      <th>0</th>\n",
       "      <td>AI/ML (Artificial Intelligence/Machine Learnin...</td>\n",
       "      <td>https://wuzzuf.net/jobs/p/O9CVoliDvZQz-AIML-Ar...</td>\n",
       "      <td>SURE International Technology</td>\n",
       "      <td>Cairo, Egypt</td>\n",
       "      <td>5 days ago</td>\n",
       "      <td>{'Full Time'}</td>\n",
       "      <td>Manager</td>\n",
       "      <td>· 5+ Yrs of Exp</td>\n",
       "      <td>[ITSoftware Development,  OperationsManagement...</td>\n",
       "      <td>['Bachelor’s degree in Statistics, Computer Sc...</td>\n",
       "      <td>...</td>\n",
       "      <td>Egypt</td>\n",
       "      <td>5.0</td>\n",
       "      <td>NaN</td>\n",
       "      <td>NaN</td>\n",
       "      <td>1</td>\n",
       "      <td>0</td>\n",
       "      <td>0</td>\n",
       "      <td>0</td>\n",
       "      <td>0</td>\n",
       "      <td>5.0</td>\n",
       "    </tr>\n",
       "    <tr>\n",
       "      <th>1</th>\n",
       "      <td>Artificial Intelligence (AI) Engineer</td>\n",
       "      <td>https://wuzzuf.net/jobs/p/DH9EDOqivogn-Artific...</td>\n",
       "      <td>Confidential</td>\n",
       "      <td>Riyadh, Saudi Arabia</td>\n",
       "      <td>25 days ago</td>\n",
       "      <td>{'Full Time'}</td>\n",
       "      <td>Experienced</td>\n",
       "      <td>· 2 - 4 Yrs of Exp</td>\n",
       "      <td>[ITSoftware Development,  AnalystResearch,  En...</td>\n",
       "      <td>['BA/BS degree in computer science or related ...</td>\n",
       "      <td>...</td>\n",
       "      <td>Saudi Arabia</td>\n",
       "      <td>25.0</td>\n",
       "      <td>NaN</td>\n",
       "      <td>NaN</td>\n",
       "      <td>1</td>\n",
       "      <td>0</td>\n",
       "      <td>0</td>\n",
       "      <td>0</td>\n",
       "      <td>0</td>\n",
       "      <td>2.0</td>\n",
       "    </tr>\n",
       "  </tbody>\n",
       "</table>\n",
       "<p>2 rows × 24 columns</p>\n",
       "</div>"
      ],
      "text/plain": [
       "                                           job_title  \\\n",
       "0  AI/ML (Artificial Intelligence/Machine Learnin...   \n",
       "1              Artificial Intelligence (AI) Engineer   \n",
       "\n",
       "                                             job_url  \\\n",
       "0  https://wuzzuf.net/jobs/p/O9CVoliDvZQz-AIML-Ar...   \n",
       "1  https://wuzzuf.net/jobs/p/DH9EDOqivogn-Artific...   \n",
       "\n",
       "                    company_name       company_location job_post_date  \\\n",
       "0  SURE International Technology          Cairo, Egypt     5 days ago   \n",
       "1                   Confidential  Riyadh, Saudi Arabia    25 days ago   \n",
       "\n",
       "    job_duration job_experience_level job_experience_duration  \\\n",
       "0  {'Full Time'}              Manager         · 5+ Yrs of Exp   \n",
       "1  {'Full Time'}          Experienced      · 2 - 4 Yrs of Exp   \n",
       "\n",
       "                                            job_tags  \\\n",
       "0  [ITSoftware Development,  OperationsManagement...   \n",
       "1  [ITSoftware Development,  AnalystResearch,  En...   \n",
       "\n",
       "                                    job_requirements  ...        country  \\\n",
       "0  ['Bachelor’s degree in Statistics, Computer Sc...  ...         Egypt    \n",
       "1  ['BA/BS degree in computer science or related ...  ...  Saudi Arabia    \n",
       "\n",
       "  post_date_days post_date_months post_date_hours full_time  part_time  \\\n",
       "0            5.0              NaN             NaN         1          0   \n",
       "1           25.0              NaN             NaN         1          0   \n",
       "\n",
       "   freelance  internship  project  min_experience  \n",
       "0          0           0        0             5.0  \n",
       "1          0           0        0             2.0  \n",
       "\n",
       "[2 rows x 24 columns]"
      ]
     },
     "execution_count": 74,
     "metadata": {},
     "output_type": "execute_result"
    }
   ],
   "source": [
    "# replace the job_tags column with the job_tags_list\n",
    "df_copy['job_tags'] = job_tags_list\n",
    "df_copy.head(2)"
   ]
  },
  {
   "cell_type": "code",
   "execution_count": 75,
   "metadata": {},
   "outputs": [
    {
     "data": {
      "text/plain": [
       "['ITSoftware Development',\n",
       " ' OperationsManagement',\n",
       " ' Engineering',\n",
       " 'TelecomTechnology',\n",
       " ' Computer Science',\n",
       " ' Python Artificial Intelligence',\n",
       " ' AI',\n",
       " ' Machine Learning',\n",
       " ' Engineering',\n",
       " ' Azure']"
      ]
     },
     "execution_count": 75,
     "metadata": {},
     "output_type": "execute_result"
    }
   ],
   "source": [
    "df_copy['job_tags'].iloc[0]    "
   ]
  },
  {
   "cell_type": "code",
   "execution_count": 76,
   "metadata": {},
   "outputs": [],
   "source": [
    "# drop the columns that have been cleaned\n",
    "df_copy.drop(['company_location', 'job_post_date', 'job_duration', 'job_experience_duration'], axis=1, inplace=True)"
   ]
  },
  {
   "cell_type": "code",
   "execution_count": null,
   "metadata": {},
   "outputs": [],
   "source": [
    "# save the cleaned dataframe to a csv file\n",
    "df_copy.to_csv('cleaned_wuzzuf_data.csv', index=False)"
   ]
  },
  {
   "cell_type": "code",
   "execution_count": null,
   "metadata": {},
   "outputs": [],
   "source": []
  }
 ],
 "metadata": {
  "kernelspec": {
   "display_name": "Python 3.8.12 ('scrapin')",
   "language": "python",
   "name": "python3"
  },
  "language_info": {
   "codemirror_mode": {
    "name": "ipython",
    "version": 3
   },
   "file_extension": ".py",
   "mimetype": "text/x-python",
   "name": "python",
   "nbconvert_exporter": "python",
   "pygments_lexer": "ipython3",
   "version": "3.8.12"
  },
  "orig_nbformat": 4,
  "vscode": {
   "interpreter": {
    "hash": "b28d3e8d262204fea32c4a27c97a3fa626971420b575b0162dce0195f78e5694"
   }
  }
 },
 "nbformat": 4,
 "nbformat_minor": 2
}
